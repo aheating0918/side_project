{
 "cells": [
  {
   "cell_type": "code",
   "execution_count": 1,
   "metadata": {},
   "outputs": [],
   "source": [
    "import requests as r\n",
    "from bs4 import BeautifulSoup"
   ]
  },
  {
   "cell_type": "code",
   "execution_count": 34,
   "metadata": {},
   "outputs": [
    {
     "name": "stdout",
     "output_type": "stream",
     "text": [
      "開出期別為:  110/1/1 第110000055期 \n",
      "第一區開出順序為:  13  27  25  02  20  09  \n",
      "第一區大小順序為:  02  09  13  20  25  27  \n",
      "第二區:  07\n"
     ]
    }
   ],
   "source": [
    "url='https://www.taiwanlottery.com.tw/'\n",
    "data=r.get(url)\n",
    "sp=BeautifulSoup(data.text,'lxml')\n",
    "datas=sp.find('div',class_='contents_box02').text #找到威力彩的區塊\n",
    "title=sp.find('span',class_='font_black15').text #開獎期數\n",
    "nums=sp.find_all('div',class_='ball_tx ball_green')\n",
    "spc=sp.find('div',class_='ball_red').text\n",
    "print('開出期別為: ',title)\n",
    "print('第一區開出順序為: ',end=' ')\n",
    "for i in range(0,6):\n",
    "    print(nums[i].text,end=' ')\n",
    "print('\\n第一區大小順序為: ',end=' ')\n",
    "for i in range(6,12):\n",
    "    print(nums[i].text,end=' ')\n",
    "print('\\n第二區: ',spc)"
   ]
  }
 ],
 "metadata": {
  "kernelspec": {
   "display_name": "Python 3",
   "language": "python",
   "name": "python3"
  },
  "language_info": {
   "codemirror_mode": {
    "name": "ipython",
    "version": 3
   },
   "file_extension": ".py",
   "mimetype": "text/x-python",
   "name": "python",
   "nbconvert_exporter": "python",
   "pygments_lexer": "ipython3",
   "version": "3.7.7"
  }
 },
 "nbformat": 4,
 "nbformat_minor": 4
}
