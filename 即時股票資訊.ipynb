{
 "cells": [
  {
   "cell_type": "code",
   "execution_count": 1,
   "metadata": {},
   "outputs": [
    {
     "name": "stdout",
     "output_type": "stream",
     "text": [
      "即時股票資料\n",
      "{'timestamp': 1611901800.0, 'info': {'code': '2002', 'channel': '2002.tw', 'name': '中鋼', 'fullname': '中國鋼鐵股份有限公司', 'time': '2021-01-29 14:30:00'}, 'realtime': {'latest_trade_price': '22.9500', 'trade_volume': '5972', 'accumulate_trade_volume': '33165', 'best_bid_price': ['22.9500', '22.9000', '22.8500', '22.8000', '22.7500'], 'best_bid_volume': ['726', '1101', '681', '774', '236'], 'best_ask_price': ['23.0000', '23.0500', '23.1000', '23.1500', '23.2000'], 'best_ask_volume': ['105', '13', '858', '227', '742'], 'open': '23.2500', 'high': '23.5500', 'low': '22.9500'}, 'success': True}\n",
      "目前股價\n",
      "22.9500\n"
     ]
    }
   ],
   "source": [
    "import twstock\n",
    "stock=twstock.Stock('2002')\n",
    "real=twstock.realtime.get('2002')\n",
    "\n",
    "while True:\n",
    "    real=twstock.realtime.get('2002')\n",
    "    if real['success']:\n",
    "        print('即時股票資料')\n",
    "        print(real)\n",
    "        print('目前股價')\n",
    "        print(real['realtime']['latest_trade_price'])\n",
    "        break\n",
    "    else:\n",
    "        print('錯誤: '+real['rtmessage'])"
   ]
  },
  {
   "cell_type": "code",
   "execution_count": null,
   "metadata": {},
   "outputs": [],
   "source": [
    "import requests\n",
    "\n",
    "msg = '這是 LINE Notify 發送的訊息。'\n",
    "token = 'mfEBjV8kapFayQ451U6rOfAKCAYQH3pEbSvd87ONarn'  #權杖\n",
    "headers = {\n",
    "    \"Authorization\": \"Bearer \" + token, \n",
    "    \"Content-Type\" : \"application/x-www-form-urlencoded\"\n",
    "}\n",
    "payload = {'message': msg}\n",
    "notify = requests.post(\"https://notify-api.line.me/api/notify\", headers = headers, params = payload)\n",
    "if notify.status_code == 200:\n",
    "    print('發送 LINE Notify 成功！')\n",
    "else:\n",
    "    print('發送 LINE Notify 失敗！')\n",
    "    "
   ]
  },
  {
   "cell_type": "code",
   "execution_count": null,
   "metadata": {},
   "outputs": [
    {
     "name": "stdout",
     "output_type": "stream",
     "text": [
      "程式開始執行\n",
      "中鋼目前股價: 23.2000\n",
      "第 1 次發送 LINE 訊息。\n"
     ]
    }
   ],
   "source": [
    "import time\n",
    "import twstock\n",
    "import requests\n",
    "\n",
    "def lineNotify(token, msg):\n",
    "    headers = {\n",
    "        \"Authorization\": \"Bearer \" + token, \n",
    "        \"Content-Type\" : \"application/x-www-form-urlencoded\"\n",
    "    }\n",
    "\n",
    "    payload = {'message': msg}\n",
    "    notify = requests.post(\"https://notify-api.line.me/api/notify\", headers = headers, params = payload)\n",
    "    return notify.status_code\n",
    "\n",
    "def sendline(mode, realprice, counterLine, token):\n",
    "    print('中鋼目前股價: '+str(realprice))\n",
    "    if mode==1:\n",
    "        message='現在中鋼股價為: '+str(realprice)+'元，請留意是否賣出!'\n",
    "    else:\n",
    "        message='現在中鋼股價為: '+str(realprice)+'元，請留意是否買入!'\n",
    "    code = lineNotify(token, message)\n",
    "    if code == 200:\n",
    "        counterLine = counterLine + 1\n",
    "        print('第 ' + str(counterLine) + ' 次發送 LINE 訊息。')\n",
    "    else:\n",
    "        print('發送 LINE 訊息失敗！')\n",
    "    return counterLine\n",
    "token='mfEBjV8kapFayQ451U6rOfAKCAYQH3pEbSvd87ONarn'\n",
    "counterLine=0\n",
    "counterError=0\n",
    "\n",
    "print('程式開始執行')\n",
    "while True:\n",
    "    realdata = twstock.realtime.get('2002')  #即時資料\n",
    "    if realdata['success']:\n",
    "        realprice = realdata['realtime']['latest_trade_price']  #目前股價\n",
    "        if float(realprice) >= 80:\n",
    "            counterLine = sendline(1, realprice, counterLine, token)\n",
    "        elif float(realprice) <= 60:\n",
    "            counterLine = sendline(2, realprice, counterLine, token)\n",
    "        if counterLine >= 3:  #最多發送3次就結束程式\n",
    "            print('程式結束！')\n",
    "            break\n",
    "    else:\n",
    "        print('twstock 讀取錯誤，錯誤原因：' + realdata['rtmessage'])\n",
    "        counterError = counterError + 1\n",
    "        if counterError >= 3:  #最多錯誤3次\n",
    "            print('程式結束！')\n",
    "            break\n",
    "    for i in range(300):  #每5分鐘讀一次\n",
    "        time.sleep(1)       \n"
   ]
  },
  {
   "cell_type": "code",
   "execution_count": null,
   "metadata": {},
   "outputs": [],
   "source": [
    "# import twstock\n",
    "# import time\n",
    "# import requests\n",
    "\n",
    "# def lineNotify(token, msg):\n",
    "#     headers = {\n",
    "#         \"Authorization\": \"Bearer \" + token, \n",
    "#         \"Content-Type\" : \"application/x-www-form-urlencoded\"\n",
    "#     }\n",
    "\n",
    "#     payload = {'message': msg}\n",
    "#     notify = requests.post(\"https://notify-api.line.me/api/notify\", headers = headers, params = payload)\n",
    "#     return notify.status_code\n",
    "\n",
    "# def sendline(mode, realprice, counterLine, token):\n",
    "#     print('鴻海目前股價：' + str(realprice))\n",
    "#     if mode == 1:\n",
    "#         message = '現在鴻海股價為 ' + str(realprice) + '元，可以賣出股票了！'\n",
    "#     else:\n",
    "#         message = '現在鴻海股價為 ' + str(realprice) + '元，可以買入股票了！'\n",
    "#     code = lineNotify(token, message)\n",
    "#     if code == 200:\n",
    "#         counterLine = counterLine + 1\n",
    "#         print('第 ' + str(counterLine) + ' 次發送 LINE 訊息。')\n",
    "#     else:\n",
    "#         print('發送 LINE 訊息失敗！')\n",
    "#     return counterLine\n",
    "\n",
    "# token = 'mfEBjV8kapFayQ451U6rOfAKCAYQH3pEbSvd87ONarn'  #權杖\n",
    "# counterLine = 0  #儲存發送次數\n",
    "# counterError = 0  #儲存錯誤次數\n",
    "\n",
    "# print('程式開始執行！')\n",
    "# while True:\n",
    "#     realdata = twstock.realtime.get('2317')  #即時資料\n",
    "#     if realdata['success']:\n",
    "#         realprice = realdata['realtime']['latest_trade_price']  #目前股價\n",
    "#         if float(realprice) >= 80:\n",
    "#             counterLine = sendline(1, realprice, counterLine, token)\n",
    "#         elif float(realprice) <= 60:\n",
    "#             counterLine = sendline(2, realprice, counterLine, token)\n",
    "#         if counterLine >= 3:  #最多發送3次就結束程式\n",
    "#             print('程式結束！')\n",
    "#             break\n",
    "#     else:\n",
    "#         print('twstock 讀取錯誤，錯誤原因：' + realdata['rtmessage'])\n",
    "#         counterError = counterError + 1\n",
    "#         if counterError >= 3:  #最多錯誤3次\n",
    "#             print('程式結束！')\n",
    "#             break\n",
    "#     for i in range(300):  #每5分鐘讀一次\n",
    "#         time.sleep(1)       \n"
   ]
  },
  {
   "cell_type": "code",
   "execution_count": null,
   "metadata": {},
   "outputs": [],
   "source": []
  }
 ],
 "metadata": {
  "kernelspec": {
   "display_name": "Python 3",
   "language": "python",
   "name": "python3"
  },
  "language_info": {
   "codemirror_mode": {
    "name": "ipython",
    "version": 3
   },
   "file_extension": ".py",
   "mimetype": "text/x-python",
   "name": "python",
   "nbconvert_exporter": "python",
   "pygments_lexer": "ipython3",
   "version": "3.7.7"
  }
 },
 "nbformat": 4,
 "nbformat_minor": 4
}
